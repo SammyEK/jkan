{
 "cells": [
  {
   "cell_type": "code",
   "execution_count": 27,
   "metadata": {},
   "outputs": [],
   "source": [
    "from mdutils.mdutils import MdUtils\n",
    "from mdutils import Html"
   ]
  },
  {
   "cell_type": "markdown",
   "metadata": {},
   "source": [
    "---\n",
    "schema: default2\n",
    "title: rtl\n",
    "organization: Sample Department\n",
    "notes: This is an example dataset that comes with a new installation of JKAN\n",
    "resources:\n",
    "  - name: Air Monitoring Stations CSV\n",
    "    url: 'file:kjhgfd/kjhgf'\n",
    "    format: csv\n",
    "license: 'https://www.nationalarchives.gov.uk/doc/open-government-licence/version/3/'\n",
    "category:\n",
    "  - Education\n",
    "maintainer: Sek \n",
    "maintainer_email: tim@timwis.com\n",
    "\n",
    "---"
   ]
  },
  {
   "cell_type": "code",
   "execution_count": 39,
   "metadata": {},
   "outputs": [
    {
     "data": {
      "text/plain": [
       "'  \\n---  \\nschema:test  \\ntitle:test  \\norganization:Sample Department  \\nnotes:  \\nresources:  \\n- name:test\\n url:file\\n format:csv  \\nlicense: https://www.nationalarchives.gov.uk/doc/open-government-licence/version/3/  \\ncategory:\\n - Education  \\nmaintainer:SEK  \\nmaintainer_email:tim@timwis.com'"
      ]
     },
     "execution_count": 39,
     "metadata": {},
     "output_type": "execute_result"
    }
   ],
   "source": [
    "mdFile = MdUtils(file_name='_datasets/Example_Markdown')\n",
    "\n",
    "\n",
    "schema = 'test'\n",
    "\n",
    "title = 'test'\n",
    "organization = 'Sample Department'\n",
    "notes = ''\n",
    "name = 'test'\n",
    "format = 'csv'\n",
    "url = 'file'\n",
    "\n",
    "mdFile.new_line(\"---\")\n",
    "mdFile.new_line(\"schema:\"+schema)\n",
    "mdFile.new_line(\"title:\"+title)\n",
    "mdFile.new_line(\"organization:\"+organization)\n",
    "mdFile.new_line(\"notes:\"+notes)\n",
    "mdFile.new_line(\"resources:\")\n",
    "mdFile.new_line('- name:'+name+'\\n url:'+url+'\\n format:'+format)\n",
    "mdFile.new_line('license: https://www.nationalarchives.gov.uk/doc/open-government-licence/version/3/')\n",
    "mdFile.new_line('category:'+'\\n - Education')\n",
    "mdFile.new_line('maintainer:'+'SEK')\n",
    "mdFile.new_line('maintainer_email:'+'tim@timwis.com')\n",
    "\n",
    "mdFile.new_line('---')\n",
    "\n"
   ]
  },
  {
   "cell_type": "code",
   "execution_count": 40,
   "metadata": {},
   "outputs": [
    {
     "data": {
      "text/plain": [
       "<mdutils.fileutils.fileutils.MarkDownFile at 0x7fba4c51a310>"
      ]
     },
     "execution_count": 40,
     "metadata": {},
     "output_type": "execute_result"
    }
   ],
   "source": [
    "mdFile.create_md_file()"
   ]
  },
  {
   "cell_type": "code",
   "execution_count": null,
   "metadata": {},
   "outputs": [],
   "source": []
  }
 ],
 "metadata": {
  "kernelspec": {
   "display_name": "Python 3",
   "language": "python",
   "name": "python3"
  },
  "language_info": {
   "codemirror_mode": {
    "name": "ipython",
    "version": 3
   },
   "file_extension": ".py",
   "mimetype": "text/x-python",
   "name": "python",
   "nbconvert_exporter": "python",
   "pygments_lexer": "ipython3",
   "version": "3.7.6"
  }
 },
 "nbformat": 4,
 "nbformat_minor": 4
}
