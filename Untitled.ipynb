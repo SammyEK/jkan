{
 "cells": [
  {
   "cell_type": "code",
   "execution_count": 27,
   "metadata": {},
   "outputs": [],
   "source": [
    "from mdutils.mdutils import MdUtils\n",
    "from mdutils import Html"
   ]
  },
  {
   "cell_type": "code",
   "execution_count": 126,
   "metadata": {},
   "outputs": [
    {
     "data": {
      "text/plain": [
       "'---  \\nschema: test  \\ntitle: test123  \\norganization: Sample Department  \\nnotes:   \\nresources:  \\n- name: test \\n url:file \\n format:csv  \\nlicense: https://www.nationalarchives.gov.uk/doc/open-government-licence/version/3/  \\ncategory:\\n - Education  \\nmaintainer: SEK  \\nmaintainer_email: tim@timwis.com'"
      ]
     },
     "execution_count": 126,
     "metadata": {},
     "output_type": "execute_result"
    }
   ],
   "source": [
    "mdFile = MdUtils(file_name='_datasets/Example_Markdown3')\n",
    "\n",
    "\n",
    "\n",
    "schema = 'test'\n",
    "\n",
    "title = 'test123'\n",
    "organization = 'Sample Department'\n",
    "notes = ''\n",
    "name = 'test'\n",
    "format = 'csv'\n",
    "url = 'file'\n",
    "\n",
    "\n",
    "mdFile.write(\"---\")\n",
    "mdFile.new_line(\"schema: \"+schema)\n",
    "mdFile.new_line(\"title: \"+title)\n",
    "mdFile.new_line(\"organization: \"+organization)\n",
    "mdFile.new_line(\"notes: \"+notes)\n",
    "mdFile.new_line(\"resources:\")\n",
    "mdFile.new_line('- name: '+name+' \\n url:'+url+' \\n format:'+format)\n",
    "mdFile.new_line('license: https://www.nationalarchives.gov.uk/doc/open-government-licence/version/3/')\n",
    "mdFile.new_line('category:'+'\\n - Education')\n",
    "mdFile.new_line('maintainer:'+' SEK')\n",
    "mdFile.new_line('maintainer_email:'+' tim@timwis.com')\n",
    "\n",
    "\n"
   ]
  },
  {
   "cell_type": "code",
   "execution_count": null,
   "metadata": {},
   "outputs": [],
   "source": [
    "text_file = open(\"/_datasets/sample.md\", \"wt\")\n",
    "n = text_file.write(mdFile.new_line('---'))\n",
    "text_file.close()"
   ]
  },
  {
   "cell_type": "code",
   "execution_count": null,
   "metadata": {},
   "outputs": [],
   "source": []
  },
  {
   "cell_type": "code",
   "execution_count": null,
   "metadata": {},
   "outputs": [],
   "source": []
  }
 ],
 "metadata": {
  "kernelspec": {
   "display_name": "Python 3",
   "language": "python",
   "name": "python3"
  },
  "language_info": {
   "codemirror_mode": {
    "name": "ipython",
    "version": 3
   },
   "file_extension": ".py",
   "mimetype": "text/x-python",
   "name": "python",
   "nbconvert_exporter": "python",
   "pygments_lexer": "ipython3",
   "version": "3.7.6"
  }
 },
 "nbformat": 4,
 "nbformat_minor": 4
}
