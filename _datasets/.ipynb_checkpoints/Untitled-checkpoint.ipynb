{
 "cells": [
  {
   "cell_type": "code",
   "execution_count": 25,
   "metadata": {},
   "outputs": [
    {
     "data": {
      "text/plain": [
       "<mdutils.fileutils.fileutils.MarkDownFile at 0x7fe94dc5a0d0>"
      ]
     },
     "execution_count": 25,
     "metadata": {},
     "output_type": "execute_result"
    }
   ],
   "source": [
    "\n",
    "from mdutils.mdutils import MdUtils\n",
    "from mdutils import Html\n",
    "\n",
    "\n",
    "# In[126]:\n",
    "\n",
    "\n",
    "mdFile = MdUtils(file_name='try')\n",
    "\n",
    "\n",
    "\n",
    "schema = 'test'\n",
    "\n",
    "title = 'test123'\n",
    "organization = 'Sample Department'\n",
    "notes = ''\n",
    "name = 'test'\n",
    "format = 'csv'\n",
    "url = 'file'\n",
    "\n",
    "\n",
    "mdFile.write(\"---\")\n",
    "mdFile.new_line(\"schema: \"+schema)\n",
    "mdFile.new_line(\"title: \"+title)\n",
    "mdFile.new_line(\"organization: \"+organization)\n",
    "mdFile.new_line(\"notes: \"+notes)\n",
    "mdFile.new_line(\"resources:\")\n",
    "mdFile.new_line('- name: '+name+' \\n url:'+url+' \\n format:'+format)\n",
    "mdFile.new_line('license: https://www.nationalarchives.gov.uk/doc/open-government-licence/version/3/')\n",
    "mdFile.new_line('category:'+'\\n - Education')\n",
    "mdFile.new_line('maintainer:'+' SEK')\n",
    "mdFile.new_line('maintainer_email:'+' tim@timwis.com')\n",
    "\n",
    "mdFile.new_line(\"---\")\n",
    "mdFile.create_md_file()\n"
   ]
  },
  {
   "cell_type": "code",
   "execution_count": 27,
   "metadata": {},
   "outputs": [],
   "source": [
    "def get_cookie(damurl,PAT):\n",
    "    import requests\n",
    "    session = requests.Session()\n",
    "    cookieurl=damurl + '/api/auth/callback?client_name=ExternalAppTokenClient'\n",
    "    header = {'X-External-App-Token':PAT}\n",
    "    response = session.post(url=cookieurl,headers=header,verify=False)\n",
    "    cookie = session.cookies\n",
    "    return cookie\n",
    "\n",
    "def get_datasources(url,cookie):\n",
    "    import requests\n",
    "    v = requests.get(url+\"/api/services/v1/resources/datasources\",cookies=cookie,verify=False)\n",
    "    return v.json()"
   ]
  },
  {
   "cell_type": "code",
   "execution_count": null,
   "metadata": {},
   "outputs": [],
   "source": [
    "cook = get_cookie()"
   ]
  }
 ],
 "metadata": {
  "kernelspec": {
   "display_name": "Python 3",
   "language": "python",
   "name": "python3"
  },
  "language_info": {
   "codemirror_mode": {
    "name": "ipython",
    "version": 3
   },
   "file_extension": ".py",
   "mimetype": "text/x-python",
   "name": "python",
   "nbconvert_exporter": "python",
   "pygments_lexer": "ipython3",
   "version": "3.7.6"
  }
 },
 "nbformat": 4,
 "nbformat_minor": 4
}
