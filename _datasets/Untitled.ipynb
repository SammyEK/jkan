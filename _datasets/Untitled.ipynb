{
 "cells": [
  {
   "cell_type": "code",
   "execution_count": 81,
   "metadata": {},
   "outputs": [],
   "source": [
    "\n",
    "from mdutils.mdutils import MdUtils\n",
    "from mdutils import Html\n",
    "\n",
    "\n",
    "# In[126]:\n",
    "\n",
    "\n",
    "\n",
    "\n",
    "\n",
    "\n",
    "\n",
    "def create_file(ds):\n",
    "    \n",
    "    data = get_datasource(URL,cook,ds['uuid'])\n",
    "    \n",
    "    naming = data['name'].replace('/','-')\n",
    "    \n",
    "    mdFile = MdUtils(file_name=naming)\n",
    "\n",
    "    schema = (',').join(i['schemaName'] for i in data['schemas'])\n",
    "    title = data['name']\n",
    "    organization = 'Sample Department'\n",
    "    notes = 'Used in '+str(data['incomingLineages']+data['outgoingLineages'])+' lineage(s)'\n",
    "    name = data['name']\n",
    "    format = data['format']\n",
    "    url = data['location']\n",
    "\n",
    "    mdFile.write(\"---\")\n",
    "    mdFile.new_line(\"schema: \"+schema)\n",
    "    mdFile.new_line(\"title: \"+title)\n",
    "    mdFile.new_line(\"organization: \"+organization)\n",
    "    mdFile.new_line(\"notes: \"+notes)\n",
    "    mdFile.new_line(\"resources:\")\n",
    "    mdFile.new_line('  - name: '+name+' \\n    url: '+url+' \\n    format : '+format)\n",
    "    mdFile.new_line('license: None')\n",
    "    mdFile.new_line('category:'+'\\n  - Education')\n",
    "    mdFile.new_line('maintainer:'+' User')\n",
    "    mdFile.new_line('maintainer_email:'+' UserMail')\n",
    "\n",
    "    mdFile.new_line(\"---\")\n",
    "    mdFile.create_md_file()\n"
   ]
  },
  {
   "cell_type": "code",
   "execution_count": 53,
   "metadata": {},
   "outputs": [],
   "source": [
    "def get_cookie(damurl,PAT):\n",
    "    import requests\n",
    "    session = requests.Session()\n",
    "    cookieurl=damurl + '/api/auth/callback?client_name=ExternalAppTokenClient'\n",
    "    header = {'X-External-App-Token':PAT}\n",
    "    response = session.post(url=cookieurl,headers=header,verify=False)\n",
    "    cookie = session.cookies\n",
    "    return cookie\n",
    "\n",
    "def get_datasources(url,cookie):\n",
    "    import requests\n",
    "    v = requests.get(url+\"/api/services/v1/resources/datasources\",cookies=cookie,verify=False)\n",
    "    return v.json()\n",
    "\n",
    "def get_datasource(url, cookie, dsId):\n",
    "    import requests\n",
    "    v = requests.get(url+\"/api/services/v1/resources/datasource/%s\" %dsId,cookies=cookie,verify=False)\n",
    "    return v.json() "
   ]
  },
  {
   "cell_type": "code",
   "execution_count": 54,
   "metadata": {},
   "outputs": [],
   "source": [
    "PAT = \"eyJhbGciOiJIUzI1NiJ9.eyIkaW50X3Blcm1zIjpbXSwic3ViIjoib3JnLnBhYzRqLmNvcmUucHJvZmlsZS5Db21tb25Qcm9maWxlI3NhbW15LS0tZXh0LWFwcCIsInRva2VuX2lkIjoiNjkxNTY4ZjQtM2ViZi00MDRmLTk1OTAtMzQxMWNlZmRhYjBiIiwiJGludF9yb2xlcyI6WyJhZG1pbiJdLCJjbiI6InNhbW15ICIsImV4cCI6NDc1OTIwNTc1OCwiaWF0IjoxNjA1NjA1NzU4fQ.id8PtcGhgdY-P09sbu1UYHdD-lHMRzwd5TUPcrh9ci8\"\n",
    "URL = \"https://www-demo101.usnek.com\"\n",
    "\n",
    "import urllib3\n",
    "urllib3.disable_warnings(urllib3.exceptions.InsecureRequestWarning)"
   ]
  },
  {
   "cell_type": "code",
   "execution_count": 83,
   "metadata": {},
   "outputs": [],
   "source": [
    "cook = get_cookie(URL,PAT)"
   ]
  },
  {
   "cell_type": "code",
   "execution_count": 62,
   "metadata": {},
   "outputs": [],
   "source": [
    "dss = get_datasources(URL,cook)"
   ]
  },
  {
   "cell_type": "code",
   "execution_count": null,
   "metadata": {},
   "outputs": [],
   "source": [
    "for ds in dss:\n",
    "    create_file(ds)"
   ]
  },
  {
   "cell_type": "code",
   "execution_count": 84,
   "metadata": {},
   "outputs": [],
   "source": [
    "create_file(dss[1])"
   ]
  },
  {
   "cell_type": "code",
   "execution_count": 79,
   "metadata": {},
   "outputs": [],
   "source": [
    "r = get_datasource(URL,cook,dss[1]['uuid'])"
   ]
  },
  {
   "cell_type": "code",
   "execution_count": 32,
   "metadata": {},
   "outputs": [
    {
     "data": {
      "text/plain": [
       "'Customer_infotable'"
      ]
     },
     "execution_count": 32,
     "metadata": {},
     "output_type": "execute_result"
    }
   ],
   "source": [
    "(',').join(i['schemaName'] for i in r['schemas'])"
   ]
  },
  {
   "cell_type": "code",
   "execution_count": 68,
   "metadata": {},
   "outputs": [
    {
     "data": {
      "text/plain": [
       "1"
      ]
     },
     "execution_count": 68,
     "metadata": {},
     "output_type": "execute_result"
    }
   ],
   "source": [
    "r['incomingLineages']+r['outgoingLineages']"
   ]
  },
  {
   "cell_type": "code",
   "execution_count": 67,
   "metadata": {},
   "outputs": [
    {
     "data": {
      "text/plain": [
       "{'name': 'Customer_infotable',\n",
       " 'location': 'abfs://system/Customer_infotable',\n",
       " 'format': 'parquet',\n",
       " 'timestamp': 1581107640000,\n",
       " 'isBusinessProcess': False,\n",
       " 'incomingLineages': 0,\n",
       " 'outgoingLineages': 1,\n",
       " 'poi': {'country': 'Belgium', 'city': 'Brussels', 'lat': 1234, 'lon': 1234},\n",
       " 'schemas': [{'schemaName': 'Customer_infotable',\n",
       "   'schemaId': 'k-76b25128531cab3e995547d8a2960ee83031a5038deb57c9fc49b9b66ec404c3',\n",
       "   'timestamp': 1581107640000}]}"
      ]
     },
     "execution_count": 67,
     "metadata": {},
     "output_type": "execute_result"
    }
   ],
   "source": [
    "r"
   ]
  },
  {
   "cell_type": "code",
   "execution_count": null,
   "metadata": {},
   "outputs": [],
   "source": []
  }
 ],
 "metadata": {
  "kernelspec": {
   "display_name": "Python 3",
   "language": "python",
   "name": "python3"
  },
  "language_info": {
   "codemirror_mode": {
    "name": "ipython",
    "version": 3
   },
   "file_extension": ".py",
   "mimetype": "text/x-python",
   "name": "python",
   "nbconvert_exporter": "python",
   "pygments_lexer": "ipython3",
   "version": "3.7.6"
  }
 },
 "nbformat": 4,
 "nbformat_minor": 4
}
