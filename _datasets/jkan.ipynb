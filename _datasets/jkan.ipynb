{
 "cells": [
  {
   "cell_type": "code",
   "execution_count": 1,
   "metadata": {},
   "outputs": [],
   "source": [
    "\n",
    "from mdutils.mdutils import MdUtils\n",
    "from mdutils import Html\n",
    "\n",
    "\n",
    "\n",
    "def create_file(ds):\n",
    "    \n",
    "    data = get_datasource(URL,cook,ds['uuid'])\n",
    "    \n",
    "    naming = data['name'].replace('/','-')\n",
    "    \n",
    "    mdFile = MdUtils(file_name=naming)\n",
    "    \n",
    "    fields = []\n",
    "    for any_schema in get_datasource(URL, cook, ds['uuid'])['schemas']:\n",
    "        schemaID = any_schema['schemaId']\n",
    "        structure = get_schema(URL,cook,schemaID)\n",
    "\n",
    "        for field in structure['schema']:\n",
    "            if field['columnName'] not in fields:\n",
    "                fields.append(field['columnName'])\n",
    "                \n",
    "\n",
    "    schema = (' '.join(fields))\n",
    "    title = data['name']\n",
    "    organization = 'Lab'\n",
    "    notes = 'Used in '+str(data['incomingLineages']+data['outgoingLineages'])+' lineage(s)'\n",
    "    name = data['name']\n",
    "    format = data['format']\n",
    "    url = data['location']\n",
    "\n",
    "    mdFile.write(\"---\")\n",
    "    mdFile.new_line(\"schema: chicago\")\n",
    "    mdFile.new_line(\"title: \"+title)\n",
    "    mdFile.new_line(\"organization: \"+organization)\n",
    "    mdFile.new_line(\"notes: \"+notes)\n",
    "    mdFile.new_line(\"resources:\")\n",
    "    mdFile.new_line('  - name: '+name+' \\n    url: '+url+' \\n    format : '+format)\n",
    "    mdFile.new_line('schema_fields: '+schema)\n",
    "    mdFile.new_line('category:'+'\\n  - Loan Acceptance Product')\n",
    "    mdFile.new_line('maintainer:'+' User')\n",
    "    mdFile.new_line('maintainer_email:'+' UserMail')\n",
    "\n",
    "    mdFile.new_line(\"---\")\n",
    "    mdFile.create_md_file()\n"
   ]
  },
  {
   "cell_type": "code",
   "execution_count": 2,
   "metadata": {},
   "outputs": [],
   "source": [
    "def get_cookie(damurl,PAT):\n",
    "    import requests\n",
    "    session = requests.Session()\n",
    "    cookieurl=damurl + '/api/auth/callback?client_name=ExternalAppTokenClient'\n",
    "    header = {'X-External-App-Token':PAT}\n",
    "    response = session.post(url=cookieurl,headers=header,verify=False)\n",
    "    cookie = session.cookies\n",
    "    return cookie\n",
    "\n",
    "def get_datasources(url,cookie):\n",
    "    import requests\n",
    "    v = requests.get(url+\"/api/services/v1/resources/datasources\",cookies=cookie,verify=False)\n",
    "    return v.json()\n",
    "\n",
    "def get_datasource(url, cookie, dsId):\n",
    "    import requests\n",
    "    v = requests.get(url+\"/api/services/v1/resources/datasource/%s\" %dsId,cookies=cookie,verify=False)\n",
    "    return v.json() \n",
    "\n",
    "\n",
    "def get_schema(url, cookie, schemaId):\n",
    "    import requests\n",
    "    v = requests.get(url+\"/api/services/v1/resources/schema/%s\" %schemaId,cookies=cookie,verify=False)\n",
    "    return v.json() \n",
    "\n"
   ]
  },
  {
   "cell_type": "code",
   "execution_count": 3,
   "metadata": {},
   "outputs": [],
   "source": [
    "PAT = \"\"\n",
    "URL = \"  \"\n",
    "\n",
    "import urllib3\n",
    "urllib3.disable_warnings(urllib3.exceptions.InsecureRequestWarning)"
   ]
  },
  {
   "cell_type": "code",
   "execution_count": 4,
   "metadata": {},
   "outputs": [],
   "source": [
    "cook = get_cookie(URL,PAT)"
   ]
  },
  {
   "cell_type": "code",
   "execution_count": 5,
   "metadata": {},
   "outputs": [],
   "source": [
    "dss = get_datasources(URL,cook)"
   ]
  },
  {
   "cell_type": "code",
   "execution_count": null,
   "metadata": {},
   "outputs": [],
   "source": []
  },
  {
   "cell_type": "code",
   "execution_count": 6,
   "metadata": {},
   "outputs": [],
   "source": [
    "project_lab = []\n",
    "project_prod = []\n",
    "\n",
    "for ds in dss:\n",
    "    if 'LoanApproval' in ds['location'] and '2020' not in ds['location']:\n",
    "        #print(ds['location'])\n",
    "        project_lab.append(ds)\n",
    "    elif 'LoanApproval' in ds['location'] and '2020' in ds['location']:\n",
    "        #print(ds['location'])\n",
    "        project_prod.append(ds)\n",
    "    "
   ]
  },
  {
   "cell_type": "code",
   "execution_count": 7,
   "metadata": {},
   "outputs": [],
   "source": [
    "prod = {}\n",
    "for ds in project_prod:\n",
    "    if ds['location'].split('/')[-1] not in prod.keys():\n",
    "        prod[ds['location'].split('/')[-1]] = []\n",
    "    prod[ds['location'].split('/')[-1]].append(ds)\n",
    "  \n",
    "        \n",
    "        "
   ]
  },
  {
   "cell_type": "code",
   "execution_count": 8,
   "metadata": {},
   "outputs": [],
   "source": [
    "for ds in project_lab:\n",
    "    create_file(ds)"
   ]
  },
  {
   "cell_type": "code",
   "execution_count": 9,
   "metadata": {},
   "outputs": [],
   "source": [
    "def create_file_multiple(ds):\n",
    "    fields = []\n",
    "    for el in ds:\n",
    "    \n",
    "        #data = get_datasource(URL,cook,ds['uuid'])\n",
    "\n",
    "        naming = el\n",
    "\n",
    "        mdFile = MdUtils(file_name=naming)\n",
    "\n",
    "        for element in ds[el]:\n",
    "        \n",
    "            for any_schema in get_datasource(URL, cook, element['uuid'])['schemas']:\n",
    "                schemaID = any_schema['schemaId']\n",
    "                structure = get_schema(URL,cook,schemaID)\n",
    "\n",
    "                for field in structure['schema']:\n",
    "                    if field['columnName'] not in fields:\n",
    "                        fields.append(field['columnName'])\n",
    "\n",
    "\n",
    "        schema = (' '.join(fields))\n",
    "        \n",
    "        title = el\n",
    "        \n",
    "        organization = 'Production'\n",
    "        \n",
    "        income = 0\n",
    "        outcome = 0\n",
    "        \n",
    "        for element in ds[el]:\n",
    "            data = get_datasource(URL,cook,element['uuid'])\n",
    "            income += data['incomingLineages']\n",
    "            outcome+= data['outgoingLineages']\n",
    "        notes = 'Used in '+str(income+outcome)+' lineage(s)'\n",
    "        \n",
    "\n",
    "        mdFile.write(\"---\")\n",
    "        mdFile.new_line(\"schema: chicago\")\n",
    "        mdFile.new_line(\"title: \"+title)\n",
    "        mdFile.new_line(\"organization: \"+organization)\n",
    "        mdFile.new_line(\"notes: \"+notes)\n",
    "        mdFile.new_line(\"resources:\")\n",
    "        \n",
    "        \n",
    "        \n",
    "        for element in ds[el]:\n",
    "            data = get_datasource(URL,cook,element['uuid'])\n",
    "            name = data['name']\n",
    "            format = data['format']\n",
    "            url = data['location']\n",
    "            \n",
    "            mdFile.new_line('  - name: '+name+' \\n    url: '+url+' \\n    format : '+format)\n",
    "        mdFile.new_line('schema_fields: '+schema)\n",
    "        mdFile.new_line('category:'+'\\n  - Loan Acceptance Product')\n",
    "        mdFile.new_line('maintainer:'+' User')\n",
    "        mdFile.new_line('maintainer_email:'+' UserMail')\n",
    "\n",
    "        mdFile.new_line(\"---\")\n",
    "        mdFile.create_md_file()"
   ]
  },
  {
   "cell_type": "code",
   "execution_count": 10,
   "metadata": {},
   "outputs": [],
   "source": [
    "create_file_multiple(prod)"
   ]
  }
 ],
 "metadata": {
  "kernelspec": {
   "display_name": "Python 3",
   "language": "python",
   "name": "python3"
  },
  "language_info": {
   "codemirror_mode": {
    "name": "ipython",
    "version": 3
   },
   "file_extension": ".py",
   "mimetype": "text/x-python",
   "name": "python",
   "nbconvert_exporter": "python",
   "pygments_lexer": "ipython3",
   "version": "3.7.6"
  }
 },
 "nbformat": 4,
 "nbformat_minor": 4
}
